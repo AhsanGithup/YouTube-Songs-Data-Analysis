{
 "cells": [
  {
   "cell_type": "markdown",
   "id": "0cbe8da8",
   "metadata": {},
   "source": [
    "# YouTube Songs Data Analysis\n",
    "This notebook contains analysis of YouTube songs data, including views, likes, comments, and publishing trends."
   ]
  },
  {
   "cell_type": "code",
   "execution_count": null,
   "id": "0b26cef7",
   "metadata": {},
   "outputs": [],
   "source": [
    "import pandas as pd\n",
    "import matplotlib.pyplot as plt\n",
    "import seaborn as sns\n",
    "import numpy as np"
   ]
  },
  {
   "cell_type": "code",
   "execution_count": 2,
   "id": "c46a016c",
   "metadata": {},
   "outputs": [],
   "source": [
    "data=pd.read_excel(\"songs.xlsx\")"
   ]
  },
  {
   "cell_type": "code",
   "execution_count": 3,
   "id": "ea80bee8",
   "metadata": {},
   "outputs": [
    {
     "data": {
      "text/html": [
       "<div>\n",
       "<style scoped>\n",
       "    .dataframe tbody tr th:only-of-type {\n",
       "        vertical-align: middle;\n",
       "    }\n",
       "\n",
       "    .dataframe tbody tr th {\n",
       "        vertical-align: top;\n",
       "    }\n",
       "\n",
       "    .dataframe thead th {\n",
       "        text-align: right;\n",
       "    }\n",
       "</style>\n",
       "<table border=\"1\" class=\"dataframe\">\n",
       "  <thead>\n",
       "    <tr style=\"text-align: right;\">\n",
       "      <th></th>\n",
       "      <th>Unnamed: 0</th>\n",
       "      <th>video_id</th>\n",
       "      <th>channelTitle</th>\n",
       "      <th>title</th>\n",
       "      <th>description</th>\n",
       "      <th>tags</th>\n",
       "      <th>publishedAt</th>\n",
       "      <th>viewCount</th>\n",
       "      <th>likeCount</th>\n",
       "      <th>favoriteCount</th>\n",
       "      <th>commentCount</th>\n",
       "      <th>duration</th>\n",
       "      <th>definition</th>\n",
       "      <th>caption</th>\n",
       "    </tr>\n",
       "  </thead>\n",
       "  <tbody>\n",
       "    <tr>\n",
       "      <th>0</th>\n",
       "      <td>0</td>\n",
       "      <td>F44TK5EHCRo</td>\n",
       "      <td>T-Series</td>\n",
       "      <td>RAFTA RAFTA (Lo-Fi Mix) | Dj Moody | KK | Jeet...</td>\n",
       "      <td>Presenting the song \"RAFTA RAFTA (Lo-Fi Mix)\" ...</td>\n",
       "      <td>['hindi songs 2023', 'hindi songs new', 'bolly...</td>\n",
       "      <td>2023-08-20T12:30:08Z</td>\n",
       "      <td>7299</td>\n",
       "      <td>241</td>\n",
       "      <td>0</td>\n",
       "      <td>59</td>\n",
       "      <td>PT4M42S</td>\n",
       "      <td>hd</td>\n",
       "      <td>False</td>\n",
       "    </tr>\n",
       "    <tr>\n",
       "      <th>1</th>\n",
       "      <td>1</td>\n",
       "      <td>adx8Rsjp-c0</td>\n",
       "      <td>T-Series</td>\n",
       "      <td>TUM HO MERA PYAR (Lo-Fi Mix) | Dj Moody | KK, ...</td>\n",
       "      <td>Presenting the song \"TUM HO MERA PYAR (Lo-Fi M...</td>\n",
       "      <td>['hindi songs 2023', 'hindi songs new', 'bolly...</td>\n",
       "      <td>2023-08-20T10:30:01Z</td>\n",
       "      <td>4212</td>\n",
       "      <td>144</td>\n",
       "      <td>0</td>\n",
       "      <td>32</td>\n",
       "      <td>PT5M27S</td>\n",
       "      <td>hd</td>\n",
       "      <td>False</td>\n",
       "    </tr>\n",
       "    <tr>\n",
       "      <th>2</th>\n",
       "      <td>2</td>\n",
       "      <td>36nQLyrR7Sw</td>\n",
       "      <td>T-Series</td>\n",
       "      <td>ISHQ HOTHON SE (Lo-Fi Mix) (Audio) | Dj Moody ...</td>\n",
       "      <td>Presenting the song \"ISHQ HOTHON SE (Lo-Fi Mix...</td>\n",
       "      <td>['hindi songs 2023', 'hindi songs new', 'bolly...</td>\n",
       "      <td>2023-08-20T09:30:00Z</td>\n",
       "      <td>2849</td>\n",
       "      <td>79</td>\n",
       "      <td>0</td>\n",
       "      <td>31</td>\n",
       "      <td>PT6M10S</td>\n",
       "      <td>hd</td>\n",
       "      <td>False</td>\n",
       "    </tr>\n",
       "    <tr>\n",
       "      <th>3</th>\n",
       "      <td>3</td>\n",
       "      <td>TKbifi5AMQo</td>\n",
       "      <td>T-Series</td>\n",
       "      <td>HUMKO PYAR HUA (Lo-Fi Mix) (Audio) | Dj Moody ...</td>\n",
       "      <td>Presenting the song \"HUMKO PYAR HUA (Lo-Fi Mix...</td>\n",
       "      <td>['hindi songs 2023', 'hindi songs new', 'bolly...</td>\n",
       "      <td>2023-08-20T07:30:05Z</td>\n",
       "      <td>3991</td>\n",
       "      <td>116</td>\n",
       "      <td>0</td>\n",
       "      <td>36</td>\n",
       "      <td>PT5M59S</td>\n",
       "      <td>hd</td>\n",
       "      <td>False</td>\n",
       "    </tr>\n",
       "    <tr>\n",
       "      <th>4</th>\n",
       "      <td>4</td>\n",
       "      <td>NNA21SoGqss</td>\n",
       "      <td>T-Series</td>\n",
       "      <td>Har Har Mahadev (Lyrical Video): Sachet Tandon...</td>\n",
       "      <td>T-Series Presents \"Har Har Mahadev (Lyrical Vi...</td>\n",
       "      <td>['hindi songs 2023', 'hindi songs new', 'bolly...</td>\n",
       "      <td>2023-08-20T05:30:06Z</td>\n",
       "      <td>101950</td>\n",
       "      <td>6230</td>\n",
       "      <td>0</td>\n",
       "      <td>434</td>\n",
       "      <td>PT3M37S</td>\n",
       "      <td>hd</td>\n",
       "      <td>False</td>\n",
       "    </tr>\n",
       "  </tbody>\n",
       "</table>\n",
       "</div>"
      ],
      "text/plain": [
       "   Unnamed: 0     video_id channelTitle  \\\n",
       "0           0  F44TK5EHCRo     T-Series   \n",
       "1           1  adx8Rsjp-c0     T-Series   \n",
       "2           2  36nQLyrR7Sw     T-Series   \n",
       "3           3  TKbifi5AMQo     T-Series   \n",
       "4           4  NNA21SoGqss     T-Series   \n",
       "\n",
       "                                               title  \\\n",
       "0  RAFTA RAFTA (Lo-Fi Mix) | Dj Moody | KK | Jeet...   \n",
       "1  TUM HO MERA PYAR (Lo-Fi Mix) | Dj Moody | KK, ...   \n",
       "2  ISHQ HOTHON SE (Lo-Fi Mix) (Audio) | Dj Moody ...   \n",
       "3  HUMKO PYAR HUA (Lo-Fi Mix) (Audio) | Dj Moody ...   \n",
       "4  Har Har Mahadev (Lyrical Video): Sachet Tandon...   \n",
       "\n",
       "                                         description  \\\n",
       "0  Presenting the song \"RAFTA RAFTA (Lo-Fi Mix)\" ...   \n",
       "1  Presenting the song \"TUM HO MERA PYAR (Lo-Fi M...   \n",
       "2  Presenting the song \"ISHQ HOTHON SE (Lo-Fi Mix...   \n",
       "3  Presenting the song \"HUMKO PYAR HUA (Lo-Fi Mix...   \n",
       "4  T-Series Presents \"Har Har Mahadev (Lyrical Vi...   \n",
       "\n",
       "                                                tags           publishedAt  \\\n",
       "0  ['hindi songs 2023', 'hindi songs new', 'bolly...  2023-08-20T12:30:08Z   \n",
       "1  ['hindi songs 2023', 'hindi songs new', 'bolly...  2023-08-20T10:30:01Z   \n",
       "2  ['hindi songs 2023', 'hindi songs new', 'bolly...  2023-08-20T09:30:00Z   \n",
       "3  ['hindi songs 2023', 'hindi songs new', 'bolly...  2023-08-20T07:30:05Z   \n",
       "4  ['hindi songs 2023', 'hindi songs new', 'bolly...  2023-08-20T05:30:06Z   \n",
       "\n",
       "   viewCount  likeCount  favoriteCount  commentCount duration definition  \\\n",
       "0       7299        241              0            59  PT4M42S         hd   \n",
       "1       4212        144              0            32  PT5M27S         hd   \n",
       "2       2849         79              0            31  PT6M10S         hd   \n",
       "3       3991        116              0            36  PT5M59S         hd   \n",
       "4     101950       6230              0           434  PT3M37S         hd   \n",
       "\n",
       "   caption  \n",
       "0    False  \n",
       "1    False  \n",
       "2    False  \n",
       "3    False  \n",
       "4    False  "
      ]
     },
     "execution_count": 3,
     "metadata": {},
     "output_type": "execute_result"
    }
   ],
   "source": [
    "data.head()"
   ]
  },
  {
   "cell_type": "code",
   "execution_count": 4,
   "id": "ff407de7",
   "metadata": {},
   "outputs": [
    {
     "data": {
      "text/plain": [
       "(19345, 14)"
      ]
     },
     "execution_count": 4,
     "metadata": {},
     "output_type": "execute_result"
    }
   ],
   "source": [
    "data.shape"
   ]
  },
  {
   "cell_type": "code",
   "execution_count": 5,
   "id": "80cd8c60",
   "metadata": {},
   "outputs": [
    {
     "name": "stdout",
     "output_type": "stream",
     "text": [
      "<class 'pandas.core.frame.DataFrame'>\n",
      "RangeIndex: 19345 entries, 0 to 19344\n",
      "Data columns (total 14 columns):\n",
      " #   Column         Non-Null Count  Dtype \n",
      "---  ------         --------------  ----- \n",
      " 0   Unnamed: 0     19345 non-null  int64 \n",
      " 1   video_id       19345 non-null  object\n",
      " 2   channelTitle   19345 non-null  object\n",
      " 3   title          19345 non-null  object\n",
      " 4   description    19342 non-null  object\n",
      " 5   tags           19345 non-null  object\n",
      " 6   publishedAt    19345 non-null  object\n",
      " 7   viewCount      19345 non-null  int64 \n",
      " 8   likeCount      19345 non-null  int64 \n",
      " 9   favoriteCount  19345 non-null  int64 \n",
      " 10  commentCount   19345 non-null  int64 \n",
      " 11  duration       19345 non-null  object\n",
      " 12  definition     19345 non-null  object\n",
      " 13  caption        19345 non-null  bool  \n",
      "dtypes: bool(1), int64(5), object(8)\n",
      "memory usage: 1.9+ MB\n"
     ]
    }
   ],
   "source": [
    "data.info()"
   ]
  },
  {
   "cell_type": "code",
   "execution_count": 6,
   "id": "7a8ec573",
   "metadata": {},
   "outputs": [
    {
     "data": {
      "text/plain": [
       "Unnamed: 0       0\n",
       "video_id         0\n",
       "channelTitle     0\n",
       "title            0\n",
       "description      3\n",
       "tags             0\n",
       "publishedAt      0\n",
       "viewCount        0\n",
       "likeCount        0\n",
       "favoriteCount    0\n",
       "commentCount     0\n",
       "duration         0\n",
       "definition       0\n",
       "caption          0\n",
       "dtype: int64"
      ]
     },
     "execution_count": 6,
     "metadata": {},
     "output_type": "execute_result"
    }
   ],
   "source": [
    "data.isnull().sum()"
   ]
  },
  {
   "cell_type": "code",
   "execution_count": 7,
   "id": "691fc684",
   "metadata": {},
   "outputs": [
    {
     "data": {
      "text/html": [
       "<div>\n",
       "<style scoped>\n",
       "    .dataframe tbody tr th:only-of-type {\n",
       "        vertical-align: middle;\n",
       "    }\n",
       "\n",
       "    .dataframe tbody tr th {\n",
       "        vertical-align: top;\n",
       "    }\n",
       "\n",
       "    .dataframe thead th {\n",
       "        text-align: right;\n",
       "    }\n",
       "</style>\n",
       "<table border=\"1\" class=\"dataframe\">\n",
       "  <thead>\n",
       "    <tr style=\"text-align: right;\">\n",
       "      <th></th>\n",
       "      <th>Unnamed: 0</th>\n",
       "      <th>video_id</th>\n",
       "      <th>channelTitle</th>\n",
       "      <th>title</th>\n",
       "      <th>description</th>\n",
       "      <th>tags</th>\n",
       "      <th>publishedAt</th>\n",
       "      <th>viewCount</th>\n",
       "      <th>likeCount</th>\n",
       "      <th>favoriteCount</th>\n",
       "      <th>commentCount</th>\n",
       "      <th>duration</th>\n",
       "      <th>definition</th>\n",
       "      <th>caption</th>\n",
       "    </tr>\n",
       "  </thead>\n",
       "  <tbody>\n",
       "    <tr>\n",
       "      <th>69</th>\n",
       "      <td>69</td>\n",
       "      <td>bSnegiL8mF8</td>\n",
       "      <td>T-Series</td>\n",
       "      <td>Vishal Mishra vibing on #dilonkidoriyan #bawaa...</td>\n",
       "      <td>NaN</td>\n",
       "      <td>[]</td>\n",
       "      <td>2023-08-06T08:34:46Z</td>\n",
       "      <td>149293</td>\n",
       "      <td>7567</td>\n",
       "      <td>0</td>\n",
       "      <td>55</td>\n",
       "      <td>PT22S</td>\n",
       "      <td>hd</td>\n",
       "      <td>False</td>\n",
       "    </tr>\n",
       "    <tr>\n",
       "      <th>6557</th>\n",
       "      <td>6557</td>\n",
       "      <td>pqkgBHKZksE</td>\n",
       "      <td>T-Series</td>\n",
       "      <td>Song Teaser: Main Rahoon Ya Na Rahoon-Dil Kyu ...</td>\n",
       "      <td>NaN</td>\n",
       "      <td>['new songs', 'ries', 'latest songs', 'hindi s...</td>\n",
       "      <td>2019-05-10T15:49:12Z</td>\n",
       "      <td>446058</td>\n",
       "      <td>11808</td>\n",
       "      <td>0</td>\n",
       "      <td>1300</td>\n",
       "      <td>PT31S</td>\n",
       "      <td>hd</td>\n",
       "      <td>False</td>\n",
       "    </tr>\n",
       "    <tr>\n",
       "      <th>15246</th>\n",
       "      <td>15246</td>\n",
       "      <td>7jHjRPp8o-Q</td>\n",
       "      <td>T-Series</td>\n",
       "      <td>IT selection scene</td>\n",
       "      <td>NaN</td>\n",
       "      <td>['Deepika Padukone', 'movie aarakshan', 'ries'...</td>\n",
       "      <td>2011-12-10T16:30:10Z</td>\n",
       "      <td>203412</td>\n",
       "      <td>1387</td>\n",
       "      <td>0</td>\n",
       "      <td>56</td>\n",
       "      <td>PT2M7S</td>\n",
       "      <td>hd</td>\n",
       "      <td>False</td>\n",
       "    </tr>\n",
       "  </tbody>\n",
       "</table>\n",
       "</div>"
      ],
      "text/plain": [
       "       Unnamed: 0     video_id channelTitle  \\\n",
       "69             69  bSnegiL8mF8     T-Series   \n",
       "6557         6557  pqkgBHKZksE     T-Series   \n",
       "15246       15246  7jHjRPp8o-Q     T-Series   \n",
       "\n",
       "                                                   title description  \\\n",
       "69     Vishal Mishra vibing on #dilonkidoriyan #bawaa...         NaN   \n",
       "6557   Song Teaser: Main Rahoon Ya Na Rahoon-Dil Kyu ...         NaN   \n",
       "15246                                 IT selection scene         NaN   \n",
       "\n",
       "                                                    tags  \\\n",
       "69                                                    []   \n",
       "6557   ['new songs', 'ries', 'latest songs', 'hindi s...   \n",
       "15246  ['Deepika Padukone', 'movie aarakshan', 'ries'...   \n",
       "\n",
       "                publishedAt  viewCount  likeCount  favoriteCount  \\\n",
       "69     2023-08-06T08:34:46Z     149293       7567              0   \n",
       "6557   2019-05-10T15:49:12Z     446058      11808              0   \n",
       "15246  2011-12-10T16:30:10Z     203412       1387              0   \n",
       "\n",
       "       commentCount duration definition  caption  \n",
       "69               55    PT22S         hd    False  \n",
       "6557           1300    PT31S         hd    False  \n",
       "15246            56   PT2M7S         hd    False  "
      ]
     },
     "execution_count": 7,
     "metadata": {},
     "output_type": "execute_result"
    }
   ],
   "source": [
    "data[data.description.isnull()]"
   ]
  },
  {
   "cell_type": "code",
   "execution_count": 8,
   "id": "dc184689",
   "metadata": {},
   "outputs": [],
   "source": [
    "data.dropna(inplace=True)"
   ]
  },
  {
   "cell_type": "code",
   "execution_count": 9,
   "id": "d0775f68",
   "metadata": {},
   "outputs": [
    {
     "data": {
      "text/plain": [
       "Unnamed: 0       0\n",
       "video_id         0\n",
       "channelTitle     0\n",
       "title            0\n",
       "description      0\n",
       "tags             0\n",
       "publishedAt      0\n",
       "viewCount        0\n",
       "likeCount        0\n",
       "favoriteCount    0\n",
       "commentCount     0\n",
       "duration         0\n",
       "definition       0\n",
       "caption          0\n",
       "dtype: int64"
      ]
     },
     "execution_count": 9,
     "metadata": {},
     "output_type": "execute_result"
    }
   ],
   "source": [
    "data.isnull().sum()"
   ]
  },
  {
   "cell_type": "code",
   "execution_count": 10,
   "id": "f96a4e66",
   "metadata": {},
   "outputs": [
    {
     "data": {
      "text/plain": [
       "'RAFTA RAFTA (Lo-Fi Mix) | Dj Moody | KK | Jeet Gannguli | Soulful KK Lo-Fi Mix'"
      ]
     },
     "execution_count": 10,
     "metadata": {},
     "output_type": "execute_result"
    }
   ],
   "source": [
    "data[\"title\"][0]"
   ]
  },
  {
   "cell_type": "code",
   "execution_count": 11,
   "id": "d409f926",
   "metadata": {},
   "outputs": [
    {
     "data": {
      "text/plain": [
       "0                               RAFTA RAFTA \n",
       "1                          TUM HO MERA PYAR \n",
       "2                            ISHQ HOTHON SE \n",
       "3                            HUMKO PYAR HUA \n",
       "4                           Har Har Mahadev \n",
       "                        ...                 \n",
       "19340                ROLA PE GAYA  FULL SONG\n",
       "19341      Patiala House-Official Trailer II\n",
       "19342                 Kyun Mein Jagoon Song \n",
       "19343                     Laung Da Lashkara \n",
       "19344    \"Patiala House\" Official Trailer 2 \n",
       "Name: song_name, Length: 19342, dtype: object"
      ]
     },
     "execution_count": 11,
     "metadata": {},
     "output_type": "execute_result"
    }
   ],
   "source": [
    "# columns \"title\" starting the song name\n",
    "data[\"song_name\"]=data[\"title\"].str.split(\"(\" , n=0 , expand=True)[0].str.split(\"|\",n=0,expand=True)[0]\n",
    "data[\"song_name\"]"
   ]
  },
  {
   "cell_type": "code",
   "execution_count": 12,
   "id": "f139bfb7",
   "metadata": {},
   "outputs": [
    {
     "data": {
      "text/plain": [
       "6649    1536719459\n",
       "4340    1333673024\n",
       "7614    1257657363\n",
       "7023    1217598096\n",
       "9026    1183904054\n",
       "Name: viewCount, dtype: int64"
      ]
     },
     "execution_count": 12,
     "metadata": {},
     "output_type": "execute_result"
    }
   ],
   "source": [
    "# Top five viewcount watching the song \n",
    "data[\"viewCount\"].sort_values(ascending=False).head(5)"
   ]
  },
  {
   "cell_type": "code",
   "execution_count": 13,
   "id": "d5e9d689",
   "metadata": {},
   "outputs": [
    {
     "data": {
      "image/png": "[encoded data removed]",
      "text/plain": [
       "<Figure size 432x288 with 1 Axes>"
      ]
     },
     "metadata": {
      "needs_background": "light"
     },
     "output_type": "display_data"
    }
   ],
   "source": [
    "data_view=data.groupby(\"song_name\")[\"viewCount\"].max().sort_values(ascending=False).head()\n",
    "data.groupby(\"song_name\")[\"viewCount\"].max().sort_values(ascending=False).head().plot(kind=\"bar\",colormap = plt.cm.Accent)\n",
    "data_view\n",
    "plt.show()"
   ]
  },
  {
   "cell_type": "code",
   "execution_count": 14,
   "id": "cd91b9bc",
   "metadata": {},
   "outputs": [
    {
     "data": {
      "text/plain": [
       "6649    12840215\n",
       "4340    10724344\n",
       "5999     7054035\n",
       "7677     6419042\n",
       "4396     6387196\n",
       "Name: likeCount, dtype: int64"
      ]
     },
     "execution_count": 14,
     "metadata": {},
     "output_type": "execute_result"
    }
   ],
   "source": [
    "# Top five likecount watching the song \n",
    "data[\"likeCount\"].sort_values(ascending=False).head(5)"
   ]
  },
  {
   "cell_type": "code",
   "execution_count": 15,
   "id": "26c9dd1c",
   "metadata": {},
   "outputs": [
    {
     "data": {
      "image/png": "[encoded data removed]",
      "text/plain": [
       "<Figure size 432x288 with 1 Axes>"
      ]
     },
     "metadata": {
      "needs_background": "light"
     },
     "output_type": "display_data"
    }
   ],
   "source": [
    "data_like=data.groupby(\"song_name\")[\"likeCount\"].max().sort_values(ascending=False).head()\n",
    "data.groupby(\"song_name\")[\"likeCount\"].max().sort_values(ascending=False).head().plot(kind=\"bar\",colormap = plt.cm.Accent)\n",
    "data_like\n",
    "plt.show()"
   ]
  },
  {
   "cell_type": "code",
   "execution_count": 16,
   "id": "c9d3bc77",
   "metadata": {},
   "outputs": [
    {
     "data": {
      "text/plain": [
       "9026    420375\n",
       "6649    353057\n",
       "6979    349430\n",
       "4340    339000\n",
       "8273    313019\n",
       "Name: commentCount, dtype: int64"
      ]
     },
     "execution_count": 16,
     "metadata": {},
     "output_type": "execute_result"
    }
   ],
   "source": [
    "# Top five commentcount watching the song \n",
    "data[\"commentCount\"].sort_values(ascending=False).head(5)"
   ]
  },
  {
   "cell_type": "code",
   "execution_count": 17,
   "id": "d00430bc",
   "metadata": {},
   "outputs": [
    {
     "data": {
      "image/png": "[encoded data removed]",
      "text/plain": [
       "<Figure size 432x288 with 1 Axes>"
      ]
     },
     "metadata": {
      "needs_background": "light"
     },
     "output_type": "display_data"
    }
   ],
   "source": [
    "data_comment=data.groupby(\"song_name\")[\"commentCount\"].max().sort_values(ascending=False).head()\n",
    "data.groupby(\"song_name\")[\"commentCount\"].max().sort_values(ascending=False).head().plot(kind=\"bar\",colormap = plt.cm.Accent)\n",
    "data_comment\n",
    "plt.show()"
   ]
  },
  {
   "cell_type": "code",
   "execution_count": 18,
   "id": "1d91261d",
   "metadata": {},
   "outputs": [
    {
     "data": {
      "text/plain": [
       "T-Series    19342\n",
       "Name: channelTitle, dtype: int64"
      ]
     },
     "execution_count": 18,
     "metadata": {},
     "output_type": "execute_result"
    },
    {
     "data": {
      "image/png": "[encoded data removed]",
      "text/plain": [
       "<Figure size 432x288 with 1 Axes>"
      ]
     },
     "metadata": {},
     "output_type": "display_data"
    }
   ],
   "source": [
    "# Analyze the distribution of video across one channel is T-Series\n",
    "data_channel=data[\"channelTitle\"].value_counts()\n",
    "data[\"channelTitle\"].value_counts().plot(kind=\"pie\",colormap = plt.cm.Accent)\n",
    "data_channel"
   ]
  },
  {
   "cell_type": "code",
   "execution_count": 19,
   "id": "d5b826ec",
   "metadata": {},
   "outputs": [
    {
     "data": {
      "text/plain": [
       "song_name\n",
       "Vaaste Song: Dhvani Bhanushali, Tanishk Bagchi     1536719459\n",
       "Lut Gaye                                           1333673024\n",
       "DILBAR Lyrical                                     1257657363\n",
       "SIMMBA: Aankh Marey Lyrical                        1217598096\n",
       "Guru Randhawa: High Rated Gabru Official Song      1183904054\n",
       "Name: viewCount, dtype: int64"
      ]
     },
     "execution_count": 19,
     "metadata": {},
     "output_type": "execute_result"
    }
   ],
   "source": [
    "# Top five popular tag and their correlation with viewcounts \n",
    "# Top five viewcount watching the song \n",
    "data_view"
   ]
  },
  {
   "cell_type": "code",
   "execution_count": 20,
   "id": "8cb9a46c",
   "metadata": {},
   "outputs": [
    {
     "data": {
      "text/plain": [
       "4340    ['hindi songs', 'new hindi songs', '2020 new s...\n",
       "6649    ['vaaste lyrics', 'vaaste full song', 'vaaste ...\n",
       "7023    ['latest hindi songs', 'bollywood songs', 'son...\n",
       "7614    ['Dilbar', 'Neha Kakkar', 'Dhvani Bhanusali', ...\n",
       "9026    ['High rated gabru', 'guru randhawa songs', 'N...\n",
       "Name: tags, dtype: object"
      ]
     },
     "execution_count": 20,
     "metadata": {},
     "output_type": "execute_result"
    }
   ],
   "source": [
    "data[data[\"viewCount\"].between(1183904054,1536719459)][\"tags\"]"
   ]
  },
  {
   "cell_type": "code",
   "execution_count": 21,
   "id": "205e9028",
   "metadata": {},
   "outputs": [
    {
     "data": {
      "text/plain": [
       "0        PT4M42S\n",
       "1        PT5M27S\n",
       "2        PT6M10S\n",
       "3        PT5M59S\n",
       "4        PT3M37S\n",
       "          ...   \n",
       "19340    PT1M31S\n",
       "19341    PT3M32S\n",
       "19342    PT1M46S\n",
       "19343    PT2M51S\n",
       "19344    PT3M10S\n",
       "Name: duration, Length: 19342, dtype: object"
      ]
     },
     "execution_count": 21,
     "metadata": {},
     "output_type": "execute_result"
    }
   ],
   "source": [
    "#Explore how youtube song video metrics vary over time.\n",
    "data[\"duration\"]"
   ]
  },
  {
   "cell_type": "code",
   "execution_count": 22,
   "id": "06d38d61",
   "metadata": {},
   "outputs": [],
   "source": [
    "data[\"duration_time\"]=data.duration.str.strip(\"PTS\").str.replace(\"M\",\":\").str.replace(\":\",\".\").str.replace(\"H\",\"\")\\\n",
    ".str.replace(\"0D\",\"1\").astype(float)"
   ]
  },
  {
   "cell_type": "code",
   "execution_count": 23,
   "id": "6a6c5a22",
   "metadata": {},
   "outputs": [
    {
     "name": "stderr",
     "output_type": "stream",
     "text": [
      "/Users/ahsan/opt/anaconda3/lib/python3.9/site-packages/seaborn/distributions.py:2619: FutureWarning: `distplot` is a deprecated function and will be removed in a future version. Please adapt your code to use either `displot` (a figure-level function with similar flexibility) or `histplot` (an axes-level function for histograms).\n",
      "  warnings.warn(msg, FutureWarning)\n"
     ]
    },
    {
     "data": {
      "text/plain": [
       "<AxesSubplot:xlabel='duration_time', ylabel='Density'>"
      ]
     },
     "execution_count": 23,
     "metadata": {},
     "output_type": "execute_result"
    },
    {
     "data": {
      "image/png": "[encoded data removed]",
      "text/plain": [
       "<Figure size 432x288 with 1 Axes>"
      ]
     },
     "metadata": {
      "needs_background": "light"
     },
     "output_type": "display_data"
    }
   ],
   "source": [
    "sns.distplot(data[\"duration_time\"])"
   ]
  },
  {
   "cell_type": "code",
   "execution_count": 24,
   "id": "907099a4",
   "metadata": {},
   "outputs": [
    {
     "data": {
      "text/plain": [
       "<AxesSubplot:>"
      ]
     },
     "execution_count": 24,
     "metadata": {},
     "output_type": "execute_result"
    },
    {
     "data": {
      "image/png": "[encoded data removed]",
      "text/plain": [
       "<Figure size 432x288 with 1 Axes>"
      ]
     },
     "metadata": {
      "needs_background": "light"
     },
     "output_type": "display_data"
    }
   ],
   "source": [
    "#duration time is outlier given so median consider\n",
    "data[\"duration_time\"].plot(kind=\"box\",colormap = plt.cm.Accent)"
   ]
  },
  {
   "cell_type": "code",
   "execution_count": 25,
   "id": "bdaa0917",
   "metadata": {},
   "outputs": [
    {
     "data": {
      "text/html": [
       "<div>\n",
       "<style scoped>\n",
       "    .dataframe tbody tr th:only-of-type {\n",
       "        vertical-align: middle;\n",
       "    }\n",
       "\n",
       "    .dataframe tbody tr th {\n",
       "        vertical-align: top;\n",
       "    }\n",
       "\n",
       "    .dataframe thead tr th {\n",
       "        text-align: left;\n",
       "    }\n",
       "\n",
       "    .dataframe thead tr:last-of-type th {\n",
       "        text-align: right;\n",
       "    }\n",
       "</style>\n",
       "<table border=\"1\" class=\"dataframe\">\n",
       "  <thead>\n",
       "    <tr>\n",
       "      <th></th>\n",
       "      <th>min</th>\n",
       "      <th>median</th>\n",
       "      <th>max</th>\n",
       "    </tr>\n",
       "    <tr>\n",
       "      <th></th>\n",
       "      <th>duration_time</th>\n",
       "      <th>duration_time</th>\n",
       "      <th>duration_time</th>\n",
       "    </tr>\n",
       "    <tr>\n",
       "      <th>song_name</th>\n",
       "      <th></th>\n",
       "      <th></th>\n",
       "      <th></th>\n",
       "    </tr>\n",
       "  </thead>\n",
       "  <tbody>\n",
       "    <tr>\n",
       "      <th></th>\n",
       "      <td>1.10</td>\n",
       "      <td>3.515</td>\n",
       "      <td>32.00</td>\n",
       "    </tr>\n",
       "    <tr>\n",
       "      <th>\" Aankhon Ki Gustakhiyan [Full Song]\"</th>\n",
       "      <td>5.00</td>\n",
       "      <td>5.000</td>\n",
       "      <td>5.00</td>\n",
       "    </tr>\n",
       "    <tr>\n",
       "      <th>\" All The Best Title Song \"</th>\n",
       "      <td>3.10</td>\n",
       "      <td>3.100</td>\n",
       "      <td>3.10</td>\n",
       "    </tr>\n",
       "    <tr>\n",
       "      <th>\" EMI Title Song\" Hindi Film EMI, Ft Sanjay Dutt</th>\n",
       "      <td>4.15</td>\n",
       "      <td>4.150</td>\n",
       "      <td>4.15</td>\n",
       "    </tr>\n",
       "    <tr>\n",
       "      <th>\" I Am A  Disco Dancer\" Full Song</th>\n",
       "      <td>1.53</td>\n",
       "      <td>1.530</td>\n",
       "      <td>1.53</td>\n",
       "    </tr>\n",
       "    <tr>\n",
       "      <th>...</th>\n",
       "      <td>...</td>\n",
       "      <td>...</td>\n",
       "      <td>...</td>\n",
       "    </tr>\n",
       "    <tr>\n",
       "      <th>★ Chulbul Pandey Ji Aap Sab ka Manoranjan Karenge ★ Salman Khan, Sonakshi Sinha</th>\n",
       "      <td>30.00</td>\n",
       "      <td>30.000</td>\n",
       "      <td>30.00</td>\n",
       "    </tr>\n",
       "    <tr>\n",
       "      <th>★ Guess the movie ★ Contest</th>\n",
       "      <td>19.00</td>\n",
       "      <td>19.000</td>\n",
       "      <td>19.00</td>\n",
       "    </tr>\n",
       "    <tr>\n",
       "      <th>★ Romantic Songs of 2012 ★ Video Jukebox</th>\n",
       "      <td>20.54</td>\n",
       "      <td>20.540</td>\n",
       "      <td>20.54</td>\n",
       "    </tr>\n",
       "    <tr>\n",
       "      <th>🍷🍺 #Alcoholia 🍻🥂#HrithikRoshan 🍷🧔🥃 Dance Status Video 🕺 #VikramVedha 👮‍♂️/🧔 #YouTubeShorts</th>\n",
       "      <td>37.00</td>\n",
       "      <td>37.000</td>\n",
       "      <td>37.00</td>\n",
       "    </tr>\n",
       "    <tr>\n",
       "      <th>💑 Sachet &amp; Parampara Video Status 💑 Malang Sajna Status Video  ♥❤🧡💖  #ytshorts</th>\n",
       "      <td>36.00</td>\n",
       "      <td>36.000</td>\n",
       "      <td>36.00</td>\n",
       "    </tr>\n",
       "  </tbody>\n",
       "</table>\n",
       "<p>17103 rows × 3 columns</p>\n",
       "</div>"
      ],
      "text/plain": [
       "                                                             min  \\\n",
       "                                                   duration_time   \n",
       "song_name                                                          \n",
       "                                                            1.10   \n",
       "\" Aankhon Ki Gustakhiyan [Full Song]\"                       5.00   \n",
       "\" All The Best Title Song \"                                 3.10   \n",
       "\" EMI Title Song\" Hindi Film EMI, Ft Sanjay Dutt            4.15   \n",
       "\" I Am A  Disco Dancer\" Full Song                           1.53   \n",
       "...                                                          ...   \n",
       "★ Chulbul Pandey Ji Aap Sab ka Manoranjan Karen...         30.00   \n",
       "★ Guess the movie ★ Contest                                19.00   \n",
       "★ Romantic Songs of 2012 ★ Video Jukebox                   20.54   \n",
       "🍷🍺 #Alcoholia 🍻🥂#HrithikRoshan 🍷🧔🥃 Dance Status...         37.00   \n",
       "💑 Sachet & Parampara Video Status 💑 Malang Sajn...         36.00   \n",
       "\n",
       "                                                          median           max  \n",
       "                                                   duration_time duration_time  \n",
       "song_name                                                                       \n",
       "                                                           3.515         32.00  \n",
       "\" Aankhon Ki Gustakhiyan [Full Song]\"                      5.000          5.00  \n",
       "\" All The Best Title Song \"                                3.100          3.10  \n",
       "\" EMI Title Song\" Hindi Film EMI, Ft Sanjay Dutt           4.150          4.15  \n",
       "\" I Am A  Disco Dancer\" Full Song                          1.530          1.53  \n",
       "...                                                          ...           ...  \n",
       "★ Chulbul Pandey Ji Aap Sab ka Manoranjan Karen...        30.000         30.00  \n",
       "★ Guess the movie ★ Contest                               19.000         19.00  \n",
       "★ Romantic Songs of 2012 ★ Video Jukebox                  20.540         20.54  \n",
       "🍷🍺 #Alcoholia 🍻🥂#HrithikRoshan 🍷🧔🥃 Dance Status...        37.000         37.00  \n",
       "💑 Sachet & Parampara Video Status 💑 Malang Sajn...        36.000         36.00  \n",
       "\n",
       "[17103 rows x 3 columns]"
      ]
     },
     "execution_count": 25,
     "metadata": {},
     "output_type": "execute_result"
    }
   ],
   "source": [
    "data.pivot_table(index=\"song_name\",values=\"duration_time\",aggfunc=[\"min\",\"median\",\"max\"])"
   ]
  },
  {
   "cell_type": "code",
   "execution_count": 26,
   "id": "58779afb",
   "metadata": {},
   "outputs": [
    {
     "data": {
      "text/plain": [
       "(1.0, 4.1, 854.51)"
      ]
     },
     "execution_count": 26,
     "metadata": {},
     "output_type": "execute_result"
    }
   ],
   "source": [
    "#duration time minium is start time very fast time and median is duration time for best time period after median\\\n",
    "#time is over time\n",
    "data[\"duration_time\"].min(),data[\"duration_time\"].median(),data[\"duration_time\"].max() "
   ]
  },
  {
   "cell_type": "code",
   "execution_count": 27,
   "id": "83a09c5a",
   "metadata": {},
   "outputs": [
    {
     "data": {
      "text/plain": [
       "duration_time\n",
       "6.47      56731.250000\n",
       "9.58      41538.000000\n",
       "36.24     37240.000000\n",
       "6.36      37150.200000\n",
       "228.25    29206.000000\n",
       "8.58      23684.000000\n",
       "9.31      22892.000000\n",
       "6.59      20709.833333\n",
       "5.48      15692.421053\n",
       "113.23    11959.000000\n",
       "30.29     11732.000000\n",
       "7.32      11490.000000\n",
       "23.42     11404.000000\n",
       "5.42      11075.750000\n",
       "6.21      10860.000000\n",
       "8.36      10722.000000\n",
       "4.27       9853.524590\n",
       "139.10     8700.000000\n",
       "3.29       8580.842105\n",
       "8.20       8265.000000\n",
       "19.59      8219.000000\n",
       "3.43       8026.806818\n",
       "4.58       7884.000000\n",
       "6.56       7882.833333\n",
       "7.30       7753.875000\n",
       "3.37       7704.275000\n",
       "3.51       7585.216216\n",
       "121.45     7582.500000\n",
       "6.46       7558.000000\n",
       "4.30       7441.069565\n",
       "Name: commentCount, dtype: float64"
      ]
     },
     "execution_count": 27,
     "metadata": {},
     "output_type": "execute_result"
    }
   ],
   "source": [
    "data.groupby(\"duration_time\")[\"commentCount\"].mean().sort_values(ascending=False).head(30)"
   ]
  },
  {
   "cell_type": "code",
   "execution_count": 28,
   "id": "aa34af3d",
   "metadata": {},
   "outputs": [
    {
     "data": {
      "text/plain": [
       "duration_time\n",
       "6.47      2.288483e+06\n",
       "228.25    2.192900e+06\n",
       "9.58      1.969309e+06\n",
       "6.36      9.613276e+05\n",
       "8.58      8.215625e+05\n",
       "9.31      7.791170e+05\n",
       "6.59      6.223532e+05\n",
       "225.60    5.610540e+05\n",
       "5.51      4.856333e+05\n",
       "8.36      4.492035e+05\n",
       "36.24     4.426400e+05\n",
       "5.42      3.968928e+05\n",
       "47.14     3.805140e+05\n",
       "7.32      3.726450e+05\n",
       "4.27      3.589380e+05\n",
       "43.70     3.574080e+05\n",
       "6.21      3.366039e+05\n",
       "224.53    3.346440e+05\n",
       "113.23    3.314140e+05\n",
       "30.29     3.165840e+05\n",
       "7.30      3.159131e+05\n",
       "35.58     2.925450e+05\n",
       "23.42     2.920015e+05\n",
       "7.19      2.856097e+05\n",
       "5.40      2.826856e+05\n",
       "6.37      2.826201e+05\n",
       "7.12      2.779460e+05\n",
       "48.32     2.764940e+05\n",
       "139.10    2.670780e+05\n",
       "4.58      2.624534e+05\n",
       "Name: likeCount, dtype: float64"
      ]
     },
     "execution_count": 28,
     "metadata": {},
     "output_type": "execute_result"
    }
   ],
   "source": [
    "data.groupby(\"duration_time\")[\"likeCount\"].mean().sort_values(ascending=False).head(30)"
   ]
  },
  {
   "cell_type": "code",
   "execution_count": 29,
   "id": "2878d487",
   "metadata": {},
   "outputs": [
    {
     "data": {
      "text/plain": [
       "duration_time\n",
       "6.47      3.142291e+08\n",
       "228.25    1.617717e+08\n",
       "8.58      1.516783e+08\n",
       "9.58      1.515170e+08\n",
       "30.29     1.255821e+08\n",
       "9.31      1.165294e+08\n",
       "7.22      1.117992e+08\n",
       "6.36      1.006235e+08\n",
       "6.59      8.073188e+07\n",
       "113.23    7.260488e+07\n",
       "139.10    7.088097e+07\n",
       "35.58     7.058802e+07\n",
       "45.19     6.891463e+07\n",
       "6.37      6.680280e+07\n",
       "23.42     6.628629e+07\n",
       "6.41      6.225844e+07\n",
       "5.51      5.607496e+07\n",
       "44.19     5.405200e+07\n",
       "56.53     5.206790e+07\n",
       "7.32      5.119723e+07\n",
       "4.27      5.113383e+07\n",
       "47.14     5.106716e+07\n",
       "225.60    5.051716e+07\n",
       "6.56      4.967872e+07\n",
       "43.70     4.410967e+07\n",
       "5.42      4.343832e+07\n",
       "6.46      4.264751e+07\n",
       "52.25     4.240474e+07\n",
       "7.30      4.156230e+07\n",
       "6.21      4.147412e+07\n",
       "Name: viewCount, dtype: float64"
      ]
     },
     "execution_count": 29,
     "metadata": {},
     "output_type": "execute_result"
    }
   ],
   "source": [
    "data.groupby(\"duration_time\")[\"viewCount\"].mean().sort_values(ascending=False).head(30)"
   ]
  },
  {
   "cell_type": "code",
   "execution_count": 30,
   "id": "3b20494e",
   "metadata": {},
   "outputs": [],
   "source": [
    "#duration time is compare to viewCount,commentcount,likecount very difficult so decide the aggreate function help \\\n",
    "#the best the or over time song video maximum time id five minutes so consider the 4 to 6 minutes afet over time\n",
    "def fun(time):\n",
    "    if time<=3:\n",
    "        return \"fast time\"\n",
    "    elif time>3 and time<6:\n",
    "        return \"best time\"\n",
    "    else :\n",
    "        return \"over time\""
   ]
  },
  {
   "cell_type": "code",
   "execution_count": 31,
   "id": "22bc3dc6",
   "metadata": {},
   "outputs": [],
   "source": [
    "data[\"time_category\"]=data[\"duration_time\"].apply(fun)"
   ]
  },
  {
   "cell_type": "code",
   "execution_count": 32,
   "id": "13abf8ea",
   "metadata": {},
   "outputs": [
    {
     "data": {
      "text/plain": [
       "<AxesSubplot:ylabel='time_category'>"
      ]
     },
     "execution_count": 32,
     "metadata": {},
     "output_type": "execute_result"
    },
    {
     "data": {
      "image/png": "[encoded data removed]",
      "text/plain": [
       "<Figure size 432x288 with 1 Axes>"
      ]
     },
     "metadata": {},
     "output_type": "display_data"
    }
   ],
   "source": [
    "data[\"time_category\"].value_counts().plot(kind=\"pie\",colormap = plt.cm.Accent)"
   ]
  },
  {
   "cell_type": "code",
   "execution_count": 33,
   "id": "4112a53b",
   "metadata": {},
   "outputs": [],
   "source": [
    "data[\"date_time\"]=pd.to_datetime(data[\"publishedAt\"])"
   ]
  },
  {
   "cell_type": "code",
   "execution_count": 34,
   "id": "07f9ec4e",
   "metadata": {},
   "outputs": [],
   "source": [
    "data[\"hour\"]=data[\"date_time\"].dt.hour"
   ]
  },
  {
   "cell_type": "code",
   "execution_count": 35,
   "id": "1d3d7dea",
   "metadata": {},
   "outputs": [],
   "source": [
    "data[\"month\"]=data[\"date_time\"].dt.month_name()"
   ]
  },
  {
   "cell_type": "code",
   "execution_count": 36,
   "id": "7c281c23",
   "metadata": {},
   "outputs": [],
   "source": [
    "data[\"year\"]=data[\"date_time\"].dt.year"
   ]
  },
  {
   "cell_type": "code",
   "execution_count": 37,
   "id": "6bf49681",
   "metadata": {},
   "outputs": [],
   "source": [
    "data[\"day\"]=data[\"date_time\"].dt.day_name()"
   ]
  },
  {
   "cell_type": "code",
   "execution_count": 38,
   "id": "c9842e14",
   "metadata": {},
   "outputs": [
    {
     "data": {
      "image/png": "[encoded data removed]",
      "text/plain": [
       "<Figure size 864x720 with 4 Axes>"
      ]
     },
     "metadata": {
      "needs_background": "light"
     },
     "output_type": "display_data"
    }
   ],
   "source": [
    "#peak the published time compare to top five comment for \"hour\",\"year\",\"month\",\"day\"\n",
    "hymd=data[[\"hour\",\"year\",\"month\",\"day\"]]\n",
    "plt.figure(figsize=(12,10))\n",
    "for i,j in zip(range(1,5),hymd):\n",
    "    plt.subplot(2,2,i)\n",
    "    data.groupby(j)[\"commentCount\"].mean().sort_values(ascending=False).head(5).plot(kind=\"bar\",colormap = plt.cm.Accent)\n",
    "    plt.xticks(rotation=45)\n",
    "plt.show()"
   ]
  },
  {
   "cell_type": "code",
   "execution_count": 39,
   "id": "afd4a82e",
   "metadata": {},
   "outputs": [
    {
     "data": {
      "image/png": "[encoded data removed]",
      "text/plain": [
       "<Figure size 864x720 with 4 Axes>"
      ]
     },
     "metadata": {
      "needs_background": "light"
     },
     "output_type": "display_data"
    }
   ],
   "source": [
    "#peak the published time compare to top five like for \"hour\",\"year\",\"month\",\"day\"\n",
    "hymd=data[[\"hour\",\"year\",\"month\",\"day\"]]\n",
    "plt.figure(figsize=(12,10))\n",
    "for i,j in zip(range(1,5),hymd):\n",
    "    plt.subplot(2,2,i)\n",
    "    data.groupby(j)[\"likeCount\"].mean().sort_values(ascending=False).head(5).plot(kind=\"bar\",colormap = plt.cm.Accent)\n",
    "    plt.xticks(rotation=45)\n",
    "plt.show()    "
   ]
  },
  {
   "cell_type": "code",
   "execution_count": 40,
   "id": "8aac6b47",
   "metadata": {},
   "outputs": [
    {
     "data": {
      "image/png": "[encoded data removed]",
      "text/plain": [
       "<Figure size 864x720 with 4 Axes>"
      ]
     },
     "metadata": {
      "needs_background": "light"
     },
     "output_type": "display_data"
    }
   ],
   "source": [
    "#peak the published time compare to top five view for \"hour\",\"year\",\"month\",\"day\"\n",
    "hymd=data[[\"hour\",\"year\",\"month\",\"day\"]]\n",
    "plt.figure(figsize=(12,10))\n",
    "for i,j in zip(range(1,5),hymd):\n",
    "    plt.subplot(2,2,i)\n",
    "    data.groupby(j)[\"viewCount\"].mean().sort_values(ascending=False).head(5).plot(kind=\"bar\",colormap = plt.cm.Accent)\n",
    "    plt.xticks(rotation=45)\n",
    "plt.show()    "
   ]
  },
  {
   "cell_type": "code",
   "execution_count": 41,
   "id": "37807e83",
   "metadata": {},
   "outputs": [
    {
     "data": {
      "image/png": "[encoded data removed]",
      "text/plain": [
       "<Figure size 1008x1152 with 3 Axes>"
      ]
     },
     "metadata": {
      "needs_background": "light"
     },
     "output_type": "display_data"
    }
   ],
   "source": [
    "#peak the published time compare to \"commentCount\",\"likeCount\",\"viewCount\"\n",
    "hymd=data[[\"commentCount\",\"likeCount\",\"viewCount\"]]\n",
    "plt.figure(figsize=(14,16))\n",
    "for i,j in zip(range(1,4),hymd):\n",
    "    plt.subplot(3,1,i)\n",
    "    plt.plot(data[\"date_time\"],data[j],color=\"green\")\n",
    "    plt.xlabel(j)\n",
    "    plt.xticks(rotation=45)\n",
    "plt.show()    "
   ]
  },
  {
   "cell_type": "code",
   "execution_count": 61,
   "id": "97bea65f",
   "metadata": {},
   "outputs": [
    {
     "data": {
      "text/html": [
       "<div>\n",
       "<style scoped>\n",
       "    .dataframe tbody tr th:only-of-type {\n",
       "        vertical-align: middle;\n",
       "    }\n",
       "\n",
       "    .dataframe tbody tr th {\n",
       "        vertical-align: top;\n",
       "    }\n",
       "\n",
       "    .dataframe thead th {\n",
       "        text-align: right;\n",
       "    }\n",
       "</style>\n",
       "<table border=\"1\" class=\"dataframe\">\n",
       "  <thead>\n",
       "    <tr style=\"text-align: right;\">\n",
       "      <th></th>\n",
       "      <th>Unnamed: 0</th>\n",
       "      <th>viewCount</th>\n",
       "      <th>likeCount</th>\n",
       "      <th>favoriteCount</th>\n",
       "      <th>commentCount</th>\n",
       "      <th>caption</th>\n",
       "      <th>duration_time</th>\n",
       "      <th>hour</th>\n",
       "      <th>year</th>\n",
       "    </tr>\n",
       "  </thead>\n",
       "  <tbody>\n",
       "    <tr>\n",
       "      <th>Unnamed: 0</th>\n",
       "      <td>1.000000</td>\n",
       "      <td>-0.013920</td>\n",
       "      <td>-0.072588</td>\n",
       "      <td>NaN</td>\n",
       "      <td>-0.082459</td>\n",
       "      <td>-0.067618</td>\n",
       "      <td>-0.146958</td>\n",
       "      <td>0.112392</td>\n",
       "      <td>-0.991961</td>\n",
       "    </tr>\n",
       "    <tr>\n",
       "      <th>viewCount</th>\n",
       "      <td>-0.013920</td>\n",
       "      <td>1.000000</td>\n",
       "      <td>0.906970</td>\n",
       "      <td>NaN</td>\n",
       "      <td>0.764074</td>\n",
       "      <td>0.111965</td>\n",
       "      <td>-0.048700</td>\n",
       "      <td>-0.052768</td>\n",
       "      <td>0.011803</td>\n",
       "    </tr>\n",
       "    <tr>\n",
       "      <th>likeCount</th>\n",
       "      <td>-0.072588</td>\n",
       "      <td>0.906970</td>\n",
       "      <td>1.000000</td>\n",
       "      <td>NaN</td>\n",
       "      <td>0.873396</td>\n",
       "      <td>0.173415</td>\n",
       "      <td>-0.041168</td>\n",
       "      <td>-0.084983</td>\n",
       "      <td>0.072143</td>\n",
       "    </tr>\n",
       "    <tr>\n",
       "      <th>favoriteCount</th>\n",
       "      <td>NaN</td>\n",
       "      <td>NaN</td>\n",
       "      <td>NaN</td>\n",
       "      <td>NaN</td>\n",
       "      <td>NaN</td>\n",
       "      <td>NaN</td>\n",
       "      <td>NaN</td>\n",
       "      <td>NaN</td>\n",
       "      <td>NaN</td>\n",
       "    </tr>\n",
       "    <tr>\n",
       "      <th>commentCount</th>\n",
       "      <td>-0.082459</td>\n",
       "      <td>0.764074</td>\n",
       "      <td>0.873396</td>\n",
       "      <td>NaN</td>\n",
       "      <td>1.000000</td>\n",
       "      <td>0.228038</td>\n",
       "      <td>-0.041788</td>\n",
       "      <td>-0.092955</td>\n",
       "      <td>0.081728</td>\n",
       "    </tr>\n",
       "    <tr>\n",
       "      <th>caption</th>\n",
       "      <td>-0.067618</td>\n",
       "      <td>0.111965</td>\n",
       "      <td>0.173415</td>\n",
       "      <td>NaN</td>\n",
       "      <td>0.228038</td>\n",
       "      <td>1.000000</td>\n",
       "      <td>-0.019636</td>\n",
       "      <td>-0.060156</td>\n",
       "      <td>0.066999</td>\n",
       "    </tr>\n",
       "    <tr>\n",
       "      <th>duration_time</th>\n",
       "      <td>-0.146958</td>\n",
       "      <td>-0.048700</td>\n",
       "      <td>-0.041168</td>\n",
       "      <td>NaN</td>\n",
       "      <td>-0.041788</td>\n",
       "      <td>-0.019636</td>\n",
       "      <td>1.000000</td>\n",
       "      <td>-0.003200</td>\n",
       "      <td>0.147202</td>\n",
       "    </tr>\n",
       "    <tr>\n",
       "      <th>hour</th>\n",
       "      <td>0.112392</td>\n",
       "      <td>-0.052768</td>\n",
       "      <td>-0.084983</td>\n",
       "      <td>NaN</td>\n",
       "      <td>-0.092955</td>\n",
       "      <td>-0.060156</td>\n",
       "      <td>-0.003200</td>\n",
       "      <td>1.000000</td>\n",
       "      <td>-0.109327</td>\n",
       "    </tr>\n",
       "    <tr>\n",
       "      <th>year</th>\n",
       "      <td>-0.991961</td>\n",
       "      <td>0.011803</td>\n",
       "      <td>0.072143</td>\n",
       "      <td>NaN</td>\n",
       "      <td>0.081728</td>\n",
       "      <td>0.066999</td>\n",
       "      <td>0.147202</td>\n",
       "      <td>-0.109327</td>\n",
       "      <td>1.000000</td>\n",
       "    </tr>\n",
       "  </tbody>\n",
       "</table>\n",
       "</div>"
      ],
      "text/plain": [
       "               Unnamed: 0  viewCount  likeCount  favoriteCount  commentCount  \\\n",
       "Unnamed: 0       1.000000  -0.013920  -0.072588            NaN     -0.082459   \n",
       "viewCount       -0.013920   1.000000   0.906970            NaN      0.764074   \n",
       "likeCount       -0.072588   0.906970   1.000000            NaN      0.873396   \n",
       "favoriteCount         NaN        NaN        NaN            NaN           NaN   \n",
       "commentCount    -0.082459   0.764074   0.873396            NaN      1.000000   \n",
       "caption         -0.067618   0.111965   0.173415            NaN      0.228038   \n",
       "duration_time   -0.146958  -0.048700  -0.041168            NaN     -0.041788   \n",
       "hour             0.112392  -0.052768  -0.084983            NaN     -0.092955   \n",
       "year            -0.991961   0.011803   0.072143            NaN      0.081728   \n",
       "\n",
       "                caption  duration_time      hour      year  \n",
       "Unnamed: 0    -0.067618      -0.146958  0.112392 -0.991961  \n",
       "viewCount      0.111965      -0.048700 -0.052768  0.011803  \n",
       "likeCount      0.173415      -0.041168 -0.084983  0.072143  \n",
       "favoriteCount       NaN            NaN       NaN       NaN  \n",
       "commentCount   0.228038      -0.041788 -0.092955  0.081728  \n",
       "caption        1.000000      -0.019636 -0.060156  0.066999  \n",
       "duration_time -0.019636       1.000000 -0.003200  0.147202  \n",
       "hour          -0.060156      -0.003200  1.000000 -0.109327  \n",
       "year           0.066999       0.147202 -0.109327  1.000000  "
      ]
     },
     "execution_count": 61,
     "metadata": {},
     "output_type": "execute_result"
    }
   ],
   "source": [
    "#Relation between like , view and comment is positive corrr relation among each other\n",
    "relation=data.corr()\n",
    "relation"
   ]
  },
  {
   "cell_type": "code",
   "execution_count": 65,
   "id": "8aad00c2",
   "metadata": {},
   "outputs": [
    {
     "data": {
      "text/plain": [
       "<AxesSubplot:>"
      ]
     },
     "execution_count": 65,
     "metadata": {},
     "output_type": "execute_result"
    },
    {
     "data": {
      "image/png": "[encoded data removed]",
      "text/plain": [
       "<Figure size 432x288 with 2 Axes>"
      ]
     },
     "metadata": {
      "needs_background": "light"
     },
     "output_type": "display_data"
    }
   ],
   "source": [
    "sns.heatmap(data.corr())"
   ]
  },
  {
   "cell_type": "code",
   "execution_count": 66,
   "id": "26d01140",
   "metadata": {},
   "outputs": [
    {
     "data": {
      "text/html": [
       "<div>\n",
       "<style scoped>\n",
       "    .dataframe tbody tr th:only-of-type {\n",
       "        vertical-align: middle;\n",
       "    }\n",
       "\n",
       "    .dataframe tbody tr th {\n",
       "        vertical-align: top;\n",
       "    }\n",
       "\n",
       "    .dataframe thead th {\n",
       "        text-align: right;\n",
       "    }\n",
       "</style>\n",
       "<table border=\"1\" class=\"dataframe\">\n",
       "  <thead>\n",
       "    <tr style=\"text-align: right;\">\n",
       "      <th></th>\n",
       "      <th>likeCount</th>\n",
       "      <th>commentCount</th>\n",
       "      <th>viewCount</th>\n",
       "    </tr>\n",
       "  </thead>\n",
       "  <tbody>\n",
       "    <tr>\n",
       "      <th>Unnamed: 0</th>\n",
       "      <td>-0.072588</td>\n",
       "      <td>-0.082459</td>\n",
       "      <td>-0.013920</td>\n",
       "    </tr>\n",
       "    <tr>\n",
       "      <th>viewCount</th>\n",
       "      <td>0.906970</td>\n",
       "      <td>0.764074</td>\n",
       "      <td>1.000000</td>\n",
       "    </tr>\n",
       "    <tr>\n",
       "      <th>likeCount</th>\n",
       "      <td>1.000000</td>\n",
       "      <td>0.873396</td>\n",
       "      <td>0.906970</td>\n",
       "    </tr>\n",
       "    <tr>\n",
       "      <th>favoriteCount</th>\n",
       "      <td>NaN</td>\n",
       "      <td>NaN</td>\n",
       "      <td>NaN</td>\n",
       "    </tr>\n",
       "    <tr>\n",
       "      <th>commentCount</th>\n",
       "      <td>0.873396</td>\n",
       "      <td>1.000000</td>\n",
       "      <td>0.764074</td>\n",
       "    </tr>\n",
       "    <tr>\n",
       "      <th>caption</th>\n",
       "      <td>0.173415</td>\n",
       "      <td>0.228038</td>\n",
       "      <td>0.111965</td>\n",
       "    </tr>\n",
       "    <tr>\n",
       "      <th>duration_time</th>\n",
       "      <td>-0.041168</td>\n",
       "      <td>-0.041788</td>\n",
       "      <td>-0.048700</td>\n",
       "    </tr>\n",
       "    <tr>\n",
       "      <th>hour</th>\n",
       "      <td>-0.084983</td>\n",
       "      <td>-0.092955</td>\n",
       "      <td>-0.052768</td>\n",
       "    </tr>\n",
       "    <tr>\n",
       "      <th>year</th>\n",
       "      <td>0.072143</td>\n",
       "      <td>0.081728</td>\n",
       "      <td>0.011803</td>\n",
       "    </tr>\n",
       "  </tbody>\n",
       "</table>\n",
       "</div>"
      ],
      "text/plain": [
       "               likeCount  commentCount  viewCount\n",
       "Unnamed: 0     -0.072588     -0.082459  -0.013920\n",
       "viewCount       0.906970      0.764074   1.000000\n",
       "likeCount       1.000000      0.873396   0.906970\n",
       "favoriteCount        NaN           NaN        NaN\n",
       "commentCount    0.873396      1.000000   0.764074\n",
       "caption         0.173415      0.228038   0.111965\n",
       "duration_time  -0.041168     -0.041788  -0.048700\n",
       "hour           -0.084983     -0.092955  -0.052768\n",
       "year            0.072143      0.081728   0.011803"
      ]
     },
     "execution_count": 66,
     "metadata": {},
     "output_type": "execute_result"
    }
   ],
   "source": [
    "relation[[\"likeCount\",\"commentCount\",\"viewCount\"]]"
   ]
  },
  {
   "cell_type": "code",
   "execution_count": 67,
   "id": "9734b583",
   "metadata": {},
   "outputs": [
    {
     "data": {
      "text/plain": [
       "<AxesSubplot:>"
      ]
     },
     "execution_count": 67,
     "metadata": {},
     "output_type": "execute_result"
    },
    {
     "data": {
      "image/png": "[encoded data removed]",
      "text/plain": [
       "<Figure size 432x288 with 2 Axes>"
      ]
     },
     "metadata": {
      "needs_background": "light"
     },
     "output_type": "display_data"
    }
   ],
   "source": [
    "sns.heatmap(relation)"
   ]
  },
  {
   "cell_type": "markdown",
   "id": "c577b0bb",
   "metadata": {},
   "source": [
    "# Corr relation between like ,view and comment is positive so"
   ]
  },
  {
   "cell_type": "markdown",
   "id": "e545c17c",
   "metadata": {},
   "source": [
    ".corr relatin b/w comment and view is 0.7"
   ]
  },
  {
   "cell_type": "markdown",
   "id": "d1e0d992",
   "metadata": {},
   "source": [
    ".corr relatin b/w comment and like is 0.8"
   ]
  },
  {
   "cell_type": "markdown",
   "id": "3559a621",
   "metadata": {},
   "source": [
    ".corr relatin b/w view and comment is 0.7"
   ]
  },
  {
   "cell_type": "markdown",
   "id": "057d2680",
   "metadata": {},
   "source": [
    ".corr relatin b/w view and like is 0.9"
   ]
  },
  {
   "cell_type": "markdown",
   "id": "90f15fce",
   "metadata": {},
   "source": [
    ".corr relatin b/w like and comment is 0.8"
   ]
  },
  {
   "cell_type": "markdown",
   "id": "ed25491e",
   "metadata": {},
   "source": [
    ".corr relatin b/w like and view is 0.9"
   ]
  },
  {
   "cell_type": "markdown",
   "id": "2c9011a4",
   "metadata": {},
   "source": [
    "# Identify factor influencing user engagement with song video"
   ]
  },
  {
   "cell_type": "markdown",
   "id": "2128a0c2",
   "metadata": {},
   "source": [
    "# Bad or negative corr relation b/w engagement and duration_time for hour,month,year,day"
   ]
  },
  {
   "cell_type": "markdown",
   "id": "67bf61e0",
   "metadata": {},
   "source": [
    ".corr relatin b/w comment and duration_time is -0.04"
   ]
  },
  {
   "cell_type": "markdown",
   "id": "3fc550b8",
   "metadata": {},
   "source": [
    ".corr relatin b/w like and duration_time is -0.04"
   ]
  },
  {
   "cell_type": "markdown",
   "id": "a96b0cf1",
   "metadata": {},
   "source": [
    ".corr relatin b/w view and view duration_time -0.04"
   ]
  },
  {
   "cell_type": "code",
   "execution_count": 109,
   "id": "6d66a204",
   "metadata": {},
   "outputs": [
    {
     "data": {
      "text/plain": [
       "(2636.3600454968464, 11940071.1451246, 87193.93511529315)"
      ]
     },
     "execution_count": 109,
     "metadata": {},
     "output_type": "execute_result"
    }
   ],
   "source": [
    "data_mean"
   ]
  },
  {
   "cell_type": "markdown",
   "id": "bb2d221d",
   "metadata": {},
   "source": [
    "# **YouTube Songs Data Analysis – Documentation & Report**\n",
    "\n",
    "## **Overview**\n",
    "This notebook analyzes over 19,000 YouTube song videos, primarily from the T-Series channel, using various video metrics to uncover patterns in viewership and engagement.\n",
    "\n",
    "## **Objectives**\n",
    "- Identify top songs by views, likes, and comments.\n",
    "- Determine how duration affects engagement.\n",
    "- Understand upload trends over time.\n",
    "- Explore correlations between video metrics.\n",
    "\n",
    "## **Key Findings**\n",
    "- **Top Performers**: \"Har Har Mahadev\" had exceptional engagement metrics.\n",
    "- **Duration Insights**: Most engaging songs are 3–6 minutes long.\n",
    "- **Upload Trends**: Spikes noted around August 20, 2023.\n",
    "- **Correlations**:\n",
    "  - Views & Likes: 0.9 (strong positive correlation)\n",
    "  - Comments & Likes: 0.8\n",
    "  - Comments & Views: 0.7\n",
    "- **Time of Upload**: Videos published at specific hours/days/months tend to receive more engagement.\n",
    "\n",
    "## **Visualization Techniques**\n",
    "- Bar plots for top songs.\n",
    "- Pie charts for channel contribution and duration categories.\n",
    "- Heatmaps for metric correlations.\n",
    "- Line plots to observe metric trends over time.\n",
    "\n",
    "## **Conclusion**\n",
    "Engagement is highly influenced by video duration, upload timing, and content appeal. This analysis provides a foundation for content strategy optimization on platforms like YouTube.\n"
   ]
  },
  {
   "cell_type": "markdown",
   "id": "d0909699",
   "metadata": {},
   "source": [
    "# *** END ***"
   ]
  },
  {
   "cell_type": "code",
   "execution_count": null,
   "id": "92750de8",
   "metadata": {},
   "outputs": [],
   "source": []
  }
 ],
 "metadata": {
  "kernelspec": {
   "display_name": "Python 3 (ipykernel)",
   "language": "python",
   "name": "python3"
  },
  "language_info": {
   "codemirror_mode": {
    "name": "ipython",
    "version": 3
   },
   "file_extension": ".py",
   "mimetype": "text/x-python",
   "name": "python",
   "nbconvert_exporter": "python",
   "pygments_lexer": "ipython3",
   "version": "3.9.12"
  }
 },
 "nbformat": 4,
 "nbformat_minor": 5
}
